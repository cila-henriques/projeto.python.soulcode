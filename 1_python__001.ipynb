{
  "nbformat": 4,
  "nbformat_minor": 0,
  "metadata": {
    "colab": {
      "provenance": [],
      "authorship_tag": "ABX9TyNlPFmVwTVEQ4dvnXv1iZEc",
      "include_colab_link": true
    },
    "kernelspec": {
      "name": "python3",
      "display_name": "Python 3"
    },
    "language_info": {
      "name": "python"
    }
  },
  "cells": [
    {
      "cell_type": "markdown",
      "metadata": {
        "id": "view-in-github",
        "colab_type": "text"
      },
      "source": [
        "<a href=\"https://colab.research.google.com/github/cila-henriques/projeto.python.soulcode/blob/main/1_python__001.ipynb\" target=\"_parent\"><img src=\"https://colab.research.google.com/assets/colab-badge.svg\" alt=\"Open In Colab\"/></a>"
      ]
    },
    {
      "cell_type": "markdown",
      "source": [
        "# Print"
      ],
      "metadata": {
        "id": "IFdPlWl_aF82"
      }
    },
    {
      "cell_type": "code",
      "execution_count": 1,
      "metadata": {
        "id": "qO977bpGYPdJ",
        "colab": {
          "base_uri": "https://localhost:8080/"
        },
        "outputId": "d469cb94-0c70-44a6-dbe6-b6195c8c5cfb"
      },
      "outputs": [
        {
          "output_type": "stream",
          "name": "stdout",
          "text": [
            "Olá Mundo\n"
          ]
        }
      ],
      "source": [
        "print('Olá Mundo')"
      ]
    },
    {
      "cell_type": "markdown",
      "source": [
        "Imprima a frase Escola de Dados da Alura!."
      ],
      "metadata": {
        "id": "1BAHU5NSY-VJ"
      }
    },
    {
      "cell_type": "code",
      "source": [
        "print(\"Escola de Dados da Alura!\")"
      ],
      "metadata": {
        "colab": {
          "base_uri": "https://localhost:8080/"
        },
        "id": "EmZDQCSGY_-3",
        "outputId": "e46cfd9f-695b-4da4-b885-0acd6a49a64c"
      },
      "execution_count": 2,
      "outputs": [
        {
          "output_type": "stream",
          "name": "stdout",
          "text": [
            "Escola de Dados da Alura!\n"
          ]
        }
      ]
    },
    {
      "cell_type": "markdown",
      "source": [
        "Imprima seu nome e seu sobrenome seguindo a estrutura abaixo:"
      ],
      "metadata": {
        "id": "CkYk68dyZHrI"
      }
    },
    {
      "cell_type": "code",
      "source": [
        "print(\"Priscila Ribeiro\")"
      ],
      "metadata": {
        "colab": {
          "base_uri": "https://localhost:8080/"
        },
        "id": "28vNeDQIY7P_",
        "outputId": "09bffba0-0399-4915-8571-56e6023a3fca"
      },
      "execution_count": 3,
      "outputs": [
        {
          "output_type": "stream",
          "name": "stdout",
          "text": [
            "Priscila Ribeiro\n"
          ]
        }
      ]
    },
    {
      "cell_type": "markdown",
      "source": [
        "Imprima o seu primeiro nome letra a letra. Por exemplo, meu nome é Mirla, então eu obtenho a seguinte saída:"
      ],
      "metadata": {
        "id": "GduU3A2oZNJR"
      }
    },
    {
      "cell_type": "code",
      "source": [
        "print(\"Priscila \\n\")\n",
        "print(\"Ribeiro \\n\")\n",
        "print(\"P\\nr\\ni\\ns\\nc\\ni\\nl\\na\")"
      ],
      "metadata": {
        "colab": {
          "base_uri": "https://localhost:8080/"
        },
        "id": "4pzGJuczZOOY",
        "outputId": "130b4c35-e6fb-4b29-d4cd-98b8a9c38ee3"
      },
      "execution_count": 7,
      "outputs": [
        {
          "output_type": "stream",
          "name": "stdout",
          "text": [
            "Priscila \n",
            "\n",
            "Ribeiro \n",
            "\n",
            "P\n",
            "r\n",
            "i\n",
            "s\n",
            "c\n",
            "i\n",
            "l\n",
            "a\n"
          ]
        }
      ]
    },
    {
      "cell_type": "markdown",
      "source": [
        "Imprima o dia do seu nascimento em formato dia mês ano. Lembrando que os valores de dia e ano não podem estar entre aspas. Supondo uma data de aniversário dia 28 de fevereiro de 2003, o formato deve estar como no exemplo abaixo:"
      ],
      "metadata": {
        "id": "AfitPU80Zwgu"
      }
    },
    {
      "cell_type": "code",
      "source": [
        "print('Ano atual: 11/08/1990')"
      ],
      "metadata": {
        "colab": {
          "base_uri": "https://localhost:8080/"
        },
        "id": "Ye07wRgCZx2u",
        "outputId": "088cd40d-ad36-49e5-f409-deff2ecc9e4c"
      },
      "execution_count": 8,
      "outputs": [
        {
          "output_type": "stream",
          "name": "stdout",
          "text": [
            "Ano atual: 11/08/1990\n"
          ]
        }
      ]
    },
    {
      "cell_type": "markdown",
      "source": [
        "# Comentários de uma linha"
      ],
      "metadata": {
        "id": "0KGBOtOyaKVq"
      }
    },
    {
      "cell_type": "code",
      "source": [
        "# Esse é um comentário de uma linha\n",
        "\n",
        "'''\n",
        "Esse é um comentário\n",
        "de várias linhas.\n",
        "\n",
        "'''\n"
      ],
      "metadata": {
        "colab": {
          "base_uri": "https://localhost:8080/",
          "height": 36
        },
        "id": "Ho_TIwbpaOBH",
        "outputId": "871295e3-7926-4a08-a41e-ba4fa5baf5b1"
      },
      "execution_count": 16,
      "outputs": [
        {
          "output_type": "execute_result",
          "data": {
            "text/plain": [
              "' \\nEsse é um comentário\\nde várias linhas.\\n\\n'"
            ],
            "application/vnd.google.colaboratory.intrinsic+json": {
              "type": "string"
            }
          },
          "metadata": {},
          "execution_count": 16
        }
      ]
    },
    {
      "cell_type": "markdown",
      "source": [],
      "metadata": {
        "id": "x33--5PYbIg_"
      }
    },
    {
      "cell_type": "markdown",
      "source": [
        "# Markdown\n",
        "é uma formatação de texto por marcação (markup) que permite escrever de forma simples e fácil de ler. Ele permite adicionar formatação ao texto sem precisar escrever um código em HTML ou outra linguagem de formatação mais complexa.\n"
      ],
      "metadata": {
        "id": "beWYZO9PbUb_"
      }
    },
    {
      "cell_type": "markdown",
      "source": [
        "# Cabeçalho de nível 1\n",
        "## Cabeçalho de nível 2\n",
        "### Cabeçalho de nível 3"
      ],
      "metadata": {
        "id": "928llWvidoU3"
      }
    },
    {
      "cell_type": "markdown",
      "source": [
        "# Negrito e itálico\n"
      ],
      "metadata": {
        "id": "0kJlx2FOctvB"
      }
    },
    {
      "cell_type": "markdown",
      "source": [
        "**Texto em negrito**"
      ],
      "metadata": {
        "id": "PicoRRr3feIc"
      }
    },
    {
      "cell_type": "markdown",
      "source": [
        "*Texto em itálico*"
      ],
      "metadata": {
        "id": "BcZ1rxfgflZu"
      }
    },
    {
      "cell_type": "markdown",
      "source": [
        "***Texto em negrito e itálico***"
      ],
      "metadata": {
        "id": "5uPB9TRrfmfb"
      }
    },
    {
      "cell_type": "markdown",
      "source": [
        "* Item 1\n",
        "* Item 2\n",
        "* Item 3"
      ],
      "metadata": {
        "id": "5_pfYjZ-fo8Y"
      }
    },
    {
      "cell_type": "markdown",
      "source": [],
      "metadata": {
        "id": "aGP2w4kRfrxQ"
      }
    },
    {
      "cell_type": "markdown",
      "source": [
        "1. Item 1\n",
        "2. Item 2\n",
        "3. Item 3"
      ],
      "metadata": {
        "id": "IyeSDrlpftex"
      }
    },
    {
      "cell_type": "markdown",
      "source": [
        "[site](wwww.teste.com)"
      ],
      "metadata": {
        "id": "3ucDnGmqgSjw"
      }
    },
    {
      "cell_type": "markdown",
      "source": [
        "# Comandos\n",
        "\n",
        "1. Shift + Enter = Espaço e Execução\n"
      ],
      "metadata": {
        "id": "4bCXUan2jiNi"
      }
    },
    {
      "cell_type": "markdown",
      "source": [
        "# Variáveis     \n",
        "## Nome das variáves nao podem ser escritas\n",
        "\n",
        "\n",
        "*   Nomes que começam com número\n",
        "Exemplos: 10_notas\n",
        "\n",
        "*   Palavras separadas por espaço\n",
        "Exemplos: nome escola\n",
        "\n",
        "*   Nomes de Funções do Python\n",
        "Exemplo: prinnt, type etc..\n",
        "\n",
        "## Case sensitive\n",
        "\n",
        "\n",
        "*   *Idade* é diferente de *idade*\n",
        "\n",
        "## Tipos de Dados\n",
        "\n",
        "*   int Exemplo: 3\n",
        "*   float Exemplo: 3.14\n",
        "*   str Exemplo: Olá\n",
        "*   bool Exemplo: True ou False\n",
        "\n",
        "\n",
        "\n"
      ],
      "metadata": {
        "id": "g-xpCXW9i9bZ"
      }
    },
    {
      "cell_type": "code",
      "source": [
        "idade = 5"
      ],
      "metadata": {
        "id": "uHkjPVhWgKSf"
      },
      "execution_count": 26,
      "outputs": []
    },
    {
      "cell_type": "code",
      "source": [
        "print(idade)"
      ],
      "metadata": {
        "colab": {
          "base_uri": "https://localhost:8080/"
        },
        "id": "-vskGgrNjCEo",
        "outputId": "7548d706-56f1-4f7b-82a3-2da4c1a38cbc"
      },
      "execution_count": 27,
      "outputs": [
        {
          "output_type": "stream",
          "name": "stdout",
          "text": [
            "5\n"
          ]
        }
      ]
    },
    {
      "cell_type": "code",
      "source": [
        "nome = 'Gabriel'\n",
        "print(nome)"
      ],
      "metadata": {
        "colab": {
          "base_uri": "https://localhost:8080/"
        },
        "id": "Om8D-SR0jJ5Z",
        "outputId": "dbff0af5-f9bd-47b1-a41b-6ebc74026e5e"
      },
      "execution_count": 29,
      "outputs": [
        {
          "output_type": "stream",
          "name": "stdout",
          "text": [
            "Gabriel\n"
          ]
        }
      ]
    },
    {
      "cell_type": "code",
      "source": [
        "i = 5\n",
        "type(i)"
      ],
      "metadata": {
        "colab": {
          "base_uri": "https://localhost:8080/"
        },
        "id": "4GmLsUhFgVLI",
        "outputId": "5f32b948-6102-42f5-c86e-273cf5c77dcf"
      },
      "execution_count": 30,
      "outputs": [
        {
          "output_type": "execute_result",
          "data": {
            "text/plain": [
              "int"
            ]
          },
          "metadata": {},
          "execution_count": 30
        }
      ]
    },
    {
      "cell_type": "code",
      "source": [
        "f = 9.8\n",
        "type(f)"
      ],
      "metadata": {
        "colab": {
          "base_uri": "https://localhost:8080/"
        },
        "id": "TzGn72FWmpjy",
        "outputId": "e86e92f4-0149-4d5d-eb0f-efab937b27a0"
      },
      "execution_count": 31,
      "outputs": [
        {
          "output_type": "execute_result",
          "data": {
            "text/plain": [
              "float"
            ]
          },
          "metadata": {},
          "execution_count": 31
        }
      ]
    },
    {
      "cell_type": "code",
      "source": [
        "b = True\n",
        "type(b)"
      ],
      "metadata": {
        "colab": {
          "base_uri": "https://localhost:8080/"
        },
        "id": "xplZk9gomv2R",
        "outputId": "171678b5-36b9-490d-fab6-8c4e9ec44dc1"
      },
      "execution_count": 33,
      "outputs": [
        {
          "output_type": "execute_result",
          "data": {
            "text/plain": [
              "bool"
            ]
          },
          "metadata": {},
          "execution_count": 33
        }
      ]
    },
    {
      "cell_type": "markdown",
      "source": [
        "Cinco pessoas trabalham como seguranças e recebem um salário de 3 mil reais. Dezesseis pessoas trabalham como docentes e recebem um salário de 6 mil reais. Por fim, temos uma pessoa que trabalha na diretoria e seu salário é de 12 mil e 500 reais.\n",
        "\n",
        "Precisamos trabalhar com esses dados fornecendo:\n",
        "\n",
        "* A quantidade total de empregados;\n",
        "* A diferença entre o salário mais baixo e mais alto;\n",
        "* A média ponderada da faixa salarial da escola."
      ],
      "metadata": {
        "id": "Lsvgsua8pAnC"
      }
    },
    {
      "cell_type": "code",
      "source": [
        "segurancaQuantidade = 22\n",
        "segurancaSalario = 3.000\n",
        "docenteQuantidade = 1\n",
        "docenteSalario = 6.000\n",
        "diretoriaQuantidade = 1\n",
        "diretoriaSalario = 12.000\n",
        "\n",
        "difMaxMin= (diretoriaSalario - segurancaSalario)\n",
        "#print(type(difMaxMin))\n",
        "print('Diferença de valor: ', difMaxMin)"
      ],
      "metadata": {
        "colab": {
          "base_uri": "https://localhost:8080/"
        },
        "id": "kwfFpXOFpT4U",
        "outputId": "8e7380ab-43ab-4a8e-b93a-c45c8b50634e"
      },
      "execution_count": 42,
      "outputs": [
        {
          "output_type": "stream",
          "name": "stdout",
          "text": [
            "Diferença de valor:  9.0\n"
          ]
        }
      ]
    }
  ]
}