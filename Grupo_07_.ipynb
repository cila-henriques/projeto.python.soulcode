{
  "nbformat": 4,
  "nbformat_minor": 0,
  "metadata": {
    "colab": {
      "provenance": [],
      "include_colab_link": true
    },
    "kernelspec": {
      "name": "python3",
      "display_name": "Python 3"
    },
    "language_info": {
      "name": "python"
    }
  },
  "cells": [
    {
      "cell_type": "markdown",
      "metadata": {
        "id": "view-in-github",
        "colab_type": "text"
      },
      "source": [
        "<a href=\"https://colab.research.google.com/github/cila-henriques/projeto.python.soulcode/blob/main/Grupo_07_.ipynb\" target=\"_parent\"><img src=\"https://colab.research.google.com/assets/colab-badge.svg\" alt=\"Open In Colab\"/></a>"
      ]
    },
    {
      "cell_type": "markdown",
      "source": [
        "\n",
        "# Descrição:\n",
        "\n",
        "Você foi contratado para desenvolver um sistema básico de gerenciamento de funcionários para uma pequena empresa. O sistema deve ser capaz de receber e  armazenar informações sobre os funcionários e realizar operações básicas de manipulação desses dados.\n",
        "\n",
        "\n",
        "Requisitos:\n",
        "\n",
        "Utilize a função input() realizar um cadastro coletando dados do usuário, como nome, cidade e estado em que reside, idade, escolaridade, cargo e salário.\n",
        "\n",
        "\n",
        "Funcionalidades do Sistema:\n",
        "\n",
        "O sistema deve oferecer as seguintes funcionalidades:\n",
        "\n",
        "\n",
        "1 - Adicionar um novo funcionário ao sistema, solicitando informações como nome, cargo, salário, e-mail, etc.\n",
        "\n",
        "\n",
        "2- Atualizar as informações de um funcionário existente com base em um identificador único (como um número de identificação ou nome). Exibir informações de um funcionário específico.\n",
        "\n",
        "\n",
        "3 - Listar todos os funcionários cadastrados.\n",
        "\n",
        "\n",
        "4 - Permitir a remoção de um funcionário do sistema.\n",
        "\n",
        "\n",
        "Observações Finais:\n",
        "\n",
        "Certifique-se de implementar um sistema de identificação único para cada funcionário. Valide as entradas do usuário para garantir que as operações sejam realizadas corretamente e sem erros. Documente adequadamente seu código com comentários explicativos para ajudar na compreensão. Esse projeto permite aos alunos praticar e consolidar conceitos fundamentais em Python, como operadores, estruturas de controle, estruturas de dados e funções, enquanto constroem um aplicativo útil para gerenciar informações de funcionários de uma empresa fictícia.\n",
        "\n",
        "\n",
        "# Atividades foram divididas\n",
        "1. Menus - Paula\n",
        "\n",
        "2. Adicionar um novo funcionário ao sistema, solicitando informações como nome, cargo, salário, e-mail, etc. - Nicolas\n",
        "\n",
        "3. Atualizar as informações de um funcionário existente com base em um identificador único (como um número de identificação ou nome). Exibir informações de um funcionário específico. - Pedro\n",
        "4. Listar todos os funcionários cadastrados. - Priscila\n",
        "5. Permitir a remoção de um funcionário do sistema. Orlei\n",
        "\n"
      ],
      "metadata": {
        "id": "VDXUWk2fiGy6"
      }
    },
    {
      "cell_type": "markdown",
      "source": [],
      "metadata": {
        "id": "X1ffp5mDjKi1"
      }
    },
    {
      "cell_type": "markdown",
      "source": [
        "1.Menus - Paula"
      ],
      "metadata": {
        "id": "KgJ0rrW2jM87"
      }
    },
    {
      "cell_type": "code",
      "execution_count": 14,
      "metadata": {
        "id": "tNgG3mkFiC6s",
        "colab": {
          "base_uri": "https://localhost:8080/"
        },
        "outputId": "0fd62826-414a-49fa-adf0-7ece1865b9dc"
      },
      "outputs": [
        {
          "output_type": "stream",
          "name": "stdout",
          "text": [
            "\n",
            "--- Bem vindo(a/e) ---\n",
            "\n",
            "--- Menu --\n",
            "1 - Adicionar Funcionário\n",
            "2 - Atualizar Funcionário\n",
            "3 - Listar Funcionário\n",
            "4 - Remover Funcionário\n",
            "5 - Sair\n",
            "Escolha uma opção: 3\n",
            "-------[Exibir as informações do Funcionario]-------\n",
            "Digite o CPF do funcionario:44\n",
            "Digite o Nome completo do funcionario:Pri\n",
            "Digite o Cargo do funcionario:Ana\n",
            "Digite o Salário do funcionario:44\n",
            "Digite o Email do funcionario:pri\n",
            "\n",
            "[Informações da funcionario Pri]\n",
            "1. CPF do funcionario: 44\n",
            "2. Nome completo do funcionario: Pri\n",
            "3. Cargo do funcionario: Ana\n",
            "4. Salário do funcionario: 44.0\n",
            "5. Email do funcionario: pri\n",
            "\n",
            "--- Bem vindo(a/e) ---\n",
            "\n",
            "--- Menu --\n",
            "1 - Adicionar Funcionário\n",
            "2 - Atualizar Funcionário\n",
            "3 - Listar Funcionário\n",
            "4 - Remover Funcionário\n",
            "5 - Sair\n",
            "Escolha uma opção: 5\n",
            "Encerrando o sistema.\n"
          ]
        }
      ],
      "source": [
        "# Função para exibir o menu e opções\n",
        "\n",
        "def menu():\n",
        "  while True:\n",
        "    print(\"\\n--- Bem vindo(a/e) ---\")\n",
        "    print(\"\\n--- Menu --\")\n",
        "    print(\"1 - Adicionar Funcionário\")\n",
        "    print(\"2 - Atualizar Funcionário\")\n",
        "    print(\"3 - Listar Funcionário\")\n",
        "    print(\"4 - Remover Funcionário\")\n",
        "    print(\"5 - Sair\")\n",
        "\n",
        "    opcao = input(\"Escolha uma opção: \")\n",
        "\n",
        "    if opcao == \"1\":\n",
        "      adicionar_funcionario()\n",
        "    elif opcao == \"2\":\n",
        "      atualizar_funcionario()\n",
        "    elif opcao == \"3\":\n",
        "      print(\"-------[Exibir as informações do Funcionario]-------\")\n",
        "      listar_funcionario()\n",
        "    elif opcao ==\"4\":\n",
        "      remover_funcionario()\n",
        "    elif opcao == \"5\":\n",
        "      print(\"Encerrando o sistema.\")\n",
        "      break\n",
        "    else:\n",
        "      print(\"Opção inválida. Tente novamente.\")\n",
        "\n",
        "menu()"
      ]
    },
    {
      "cell_type": "markdown",
      "source": [
        "2.Adicionar um novo funcionário ao sistema, solicitando informações como nome, cargo, salário, e-mail, etc. - Nicolas"
      ],
      "metadata": {
        "id": "gfpbMGSkjRTz"
      }
    },
    {
      "cell_type": "code",
      "source": [],
      "metadata": {
        "id": "YY4ifWRKjP0c"
      },
      "execution_count": null,
      "outputs": []
    },
    {
      "cell_type": "markdown",
      "source": [
        "3.Atualizar as informações de um funcionário existente com base em um identificador único (como um número de identificação ou nome). Exibir informações de um funcionário específico. - Pedro"
      ],
      "metadata": {
        "id": "2kIRkseejfbV"
      }
    },
    {
      "cell_type": "code",
      "source": [],
      "metadata": {
        "id": "06spHIkAjczJ"
      },
      "execution_count": null,
      "outputs": []
    },
    {
      "cell_type": "markdown",
      "source": [
        "4.Listar todos os funcionários cadastrados. - Priscila Henriques"
      ],
      "metadata": {
        "id": "wPfzcytQjkvE"
      }
    },
    {
      "cell_type": "code",
      "source": [
        "def listar_funcionario():\n",
        "  #mock\n",
        "  funcionario = []\n",
        "  funcionario.append(int(input('Digite o CPF do funcionario:')) )\n",
        "  funcionario.append(input('Digite o Nome completo do funcionario:'))\n",
        "  funcionario.append(input('Digite o Cargo do funcionario:'))\n",
        "  funcionario.append(float(input('Digite o Salário do funcionario:')))\n",
        "  funcionario.append(input('Digite o Email do funcionario:'))\n",
        "  # ----------------------\n",
        "\n",
        "  print('')\n",
        "  print(f'[Informações da/o funcionario/a {funcionario[1]}]')\n",
        "\n",
        "  print('1. CPF do funcionario:',funcionario[0])\n",
        "  print('2. Nome completo do funcionario:',funcionario[1])\n",
        "  print('3. Cargo do funcionario:',funcionario[2])\n",
        "  print('4. Salário do funcionario:',funcionario[3])\n",
        "  print('5. Email do funcionario:',funcionario[4])\n"
      ],
      "metadata": {
        "id": "LtkIOAzBjlvt"
      },
      "execution_count": 13,
      "outputs": []
    },
    {
      "cell_type": "markdown",
      "source": [
        "5.Permitir a remoção de um funcionário do sistema. Orlei"
      ],
      "metadata": {
        "id": "mGrs8AkXjl_T"
      }
    },
    {
      "cell_type": "code",
      "source": [],
      "metadata": {
        "id": "BkYFgYi5j_f6"
      },
      "execution_count": null,
      "outputs": []
    },
    {
      "cell_type": "markdown",
      "source": [],
      "metadata": {
        "id": "hGyxkKo6kMer"
      }
    }
  ]
}