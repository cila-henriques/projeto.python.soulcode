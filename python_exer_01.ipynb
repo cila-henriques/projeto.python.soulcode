{
  "nbformat": 4,
  "nbformat_minor": 0,
  "metadata": {
    "colab": {
      "provenance": [],
      "authorship_tag": "ABX9TyOKQQ88a8pbintD+NxINp4P",
      "include_colab_link": true
    },
    "kernelspec": {
      "name": "python3",
      "display_name": "Python 3"
    },
    "language_info": {
      "name": "python"
    }
  },
  "cells": [
    {
      "cell_type": "markdown",
      "metadata": {
        "id": "view-in-github",
        "colab_type": "text"
      },
      "source": [
        "<a href=\"https://colab.research.google.com/github/cila-henriques/projeto.python.soulcode/blob/main/python_exer_01.ipynb\" target=\"_parent\"><img src=\"https://colab.research.google.com/assets/colab-badge.svg\" alt=\"Open In Colab\"/></a>"
      ]
    },
    {
      "cell_type": "markdown",
      "source": [
        "# Print"
      ],
      "metadata": {
        "id": "IFdPlWl_aF82"
      }
    },
    {
      "cell_type": "code",
      "execution_count": null,
      "metadata": {
        "id": "qO977bpGYPdJ",
        "colab": {
          "base_uri": "https://localhost:8080/"
        },
        "outputId": "d469cb94-0c70-44a6-dbe6-b6195c8c5cfb"
      },
      "outputs": [
        {
          "output_type": "stream",
          "name": "stdout",
          "text": [
            "Olá Mundo\n"
          ]
        }
      ],
      "source": [
        "print('Olá Mundo')"
      ]
    },
    {
      "cell_type": "markdown",
      "source": [
        "Imprima a frase Escola de Dados da Alura!."
      ],
      "metadata": {
        "id": "1BAHU5NSY-VJ"
      }
    },
    {
      "cell_type": "code",
      "source": [
        "print(\"Escola de Dados da Alura!\")"
      ],
      "metadata": {
        "colab": {
          "base_uri": "https://localhost:8080/"
        },
        "id": "EmZDQCSGY_-3",
        "outputId": "e46cfd9f-695b-4da4-b885-0acd6a49a64c"
      },
      "execution_count": null,
      "outputs": [
        {
          "output_type": "stream",
          "name": "stdout",
          "text": [
            "Escola de Dados da Alura!\n"
          ]
        }
      ]
    },
    {
      "cell_type": "markdown",
      "source": [
        "Imprima seu nome e seu sobrenome seguindo a estrutura abaixo:"
      ],
      "metadata": {
        "id": "CkYk68dyZHrI"
      }
    },
    {
      "cell_type": "code",
      "source": [
        "print(\"Priscila Ribeiro\")"
      ],
      "metadata": {
        "colab": {
          "base_uri": "https://localhost:8080/"
        },
        "id": "28vNeDQIY7P_",
        "outputId": "09bffba0-0399-4915-8571-56e6023a3fca"
      },
      "execution_count": null,
      "outputs": [
        {
          "output_type": "stream",
          "name": "stdout",
          "text": [
            "Priscila Ribeiro\n"
          ]
        }
      ]
    },
    {
      "cell_type": "markdown",
      "source": [
        "Imprima o seu primeiro nome letra a letra. Por exemplo, meu nome é Mirla, então eu obtenho a seguinte saída:"
      ],
      "metadata": {
        "id": "GduU3A2oZNJR"
      }
    },
    {
      "cell_type": "code",
      "source": [
        "print(\"Priscila \\n\")\n",
        "print(\"Ribeiro \\n\")\n",
        "print(\"P\\nr\\ni\\ns\\nc\\ni\\nl\\na\")"
      ],
      "metadata": {
        "colab": {
          "base_uri": "https://localhost:8080/"
        },
        "id": "4pzGJuczZOOY",
        "outputId": "130b4c35-e6fb-4b29-d4cd-98b8a9c38ee3"
      },
      "execution_count": null,
      "outputs": [
        {
          "output_type": "stream",
          "name": "stdout",
          "text": [
            "Priscila \n",
            "\n",
            "Ribeiro \n",
            "\n",
            "P\n",
            "r\n",
            "i\n",
            "s\n",
            "c\n",
            "i\n",
            "l\n",
            "a\n"
          ]
        }
      ]
    },
    {
      "cell_type": "markdown",
      "source": [
        "Imprima o dia do seu nascimento em formato dia mês ano. Lembrando que os valores de dia e ano não podem estar entre aspas. Supondo uma data de aniversário dia 28 de fevereiro de 2003, o formato deve estar como no exemplo abaixo:"
      ],
      "metadata": {
        "id": "AfitPU80Zwgu"
      }
    },
    {
      "cell_type": "code",
      "source": [
        "print('Ano atual: 11/08/1990')"
      ],
      "metadata": {
        "colab": {
          "base_uri": "https://localhost:8080/"
        },
        "id": "Ye07wRgCZx2u",
        "outputId": "088cd40d-ad36-49e5-f409-deff2ecc9e4c"
      },
      "execution_count": null,
      "outputs": [
        {
          "output_type": "stream",
          "name": "stdout",
          "text": [
            "Ano atual: 11/08/1990\n"
          ]
        }
      ]
    },
    {
      "cell_type": "markdown",
      "source": [
        "# Comentários de uma linha"
      ],
      "metadata": {
        "id": "0KGBOtOyaKVq"
      }
    },
    {
      "cell_type": "code",
      "source": [
        "# Esse é um comentário de uma linha\n",
        "\n",
        "'''\n",
        "Esse é um comentário\n",
        "de várias linhas.\n",
        "\n",
        "'''\n"
      ],
      "metadata": {
        "colab": {
          "base_uri": "https://localhost:8080/",
          "height": 36
        },
        "id": "Ho_TIwbpaOBH",
        "outputId": "871295e3-7926-4a08-a41e-ba4fa5baf5b1"
      },
      "execution_count": null,
      "outputs": [
        {
          "output_type": "execute_result",
          "data": {
            "text/plain": [
              "' \\nEsse é um comentário\\nde várias linhas.\\n\\n'"
            ],
            "application/vnd.google.colaboratory.intrinsic+json": {
              "type": "string"
            }
          },
          "metadata": {},
          "execution_count": 16
        }
      ]
    },
    {
      "cell_type": "markdown",
      "source": [],
      "metadata": {
        "id": "x33--5PYbIg_"
      }
    },
    {
      "cell_type": "markdown",
      "source": [
        "# Markdown\n",
        "é uma formatação de texto por marcação (markup) que permite escrever de forma simples e fácil de ler. Ele permite adicionar formatação ao texto sem precisar escrever um código em HTML ou outra linguagem de formatação mais complexa.\n"
      ],
      "metadata": {
        "id": "beWYZO9PbUb_"
      }
    },
    {
      "cell_type": "markdown",
      "source": [
        "# Cabeçalho de nível 1\n",
        "## Cabeçalho de nível 2\n",
        "### Cabeçalho de nível 3"
      ],
      "metadata": {
        "id": "928llWvidoU3"
      }
    },
    {
      "cell_type": "markdown",
      "source": [
        "# Negrito e itálico\n"
      ],
      "metadata": {
        "id": "0kJlx2FOctvB"
      }
    },
    {
      "cell_type": "markdown",
      "source": [
        "**Texto em negrito**"
      ],
      "metadata": {
        "id": "PicoRRr3feIc"
      }
    },
    {
      "cell_type": "markdown",
      "source": [
        "*Texto em itálico*"
      ],
      "metadata": {
        "id": "BcZ1rxfgflZu"
      }
    },
    {
      "cell_type": "markdown",
      "source": [
        "***Texto em negrito e itálico***"
      ],
      "metadata": {
        "id": "5uPB9TRrfmfb"
      }
    },
    {
      "cell_type": "markdown",
      "source": [
        "* Item 1\n",
        "* Item 2\n",
        "* Item 3"
      ],
      "metadata": {
        "id": "5_pfYjZ-fo8Y"
      }
    },
    {
      "cell_type": "markdown",
      "source": [],
      "metadata": {
        "id": "aGP2w4kRfrxQ"
      }
    },
    {
      "cell_type": "markdown",
      "source": [
        "1. Item 1\n",
        "2. Item 2\n",
        "3. Item 3"
      ],
      "metadata": {
        "id": "IyeSDrlpftex"
      }
    },
    {
      "cell_type": "markdown",
      "source": [
        "[site](wwww.teste.com)"
      ],
      "metadata": {
        "id": "3ucDnGmqgSjw"
      }
    },
    {
      "cell_type": "markdown",
      "source": [
        "# Comandos\n",
        "\n",
        "1. Shift + Enter = Espaço e Execução\n"
      ],
      "metadata": {
        "id": "4bCXUan2jiNi"
      }
    },
    {
      "cell_type": "markdown",
      "source": [
        "# Variáveis     \n",
        "## Nome das variáves nao podem ser escritas\n",
        "\n",
        "\n",
        "*   Nomes que começam com número\n",
        "Exemplos: 10_notas\n",
        "\n",
        "*   Palavras separadas por espaço\n",
        "Exemplos: nome escola\n",
        "\n",
        "*   Nomes de Funções do Python\n",
        "Exemplo: prinnt, type etc..\n",
        "\n",
        "## Case sensitive\n",
        "\n",
        "\n",
        "*   *Idade* é diferente de *idade*\n",
        "\n",
        "## Tipos de Dados\n",
        "\n",
        "*   int Exemplo: 3\n",
        "*   float Exemplo: 3.14\n",
        "*   str Exemplo: Olá\n",
        "*   bool Exemplo: True ou False\n",
        "\n",
        "\n",
        "\n"
      ],
      "metadata": {
        "id": "g-xpCXW9i9bZ"
      }
    },
    {
      "cell_type": "code",
      "source": [
        "idade = 5"
      ],
      "metadata": {
        "id": "uHkjPVhWgKSf"
      },
      "execution_count": null,
      "outputs": []
    },
    {
      "cell_type": "code",
      "source": [
        "print(idade)"
      ],
      "metadata": {
        "colab": {
          "base_uri": "https://localhost:8080/"
        },
        "id": "-vskGgrNjCEo",
        "outputId": "7548d706-56f1-4f7b-82a3-2da4c1a38cbc"
      },
      "execution_count": null,
      "outputs": [
        {
          "output_type": "stream",
          "name": "stdout",
          "text": [
            "5\n"
          ]
        }
      ]
    },
    {
      "cell_type": "code",
      "source": [
        "nome = 'Gabriel'\n",
        "print(nome)"
      ],
      "metadata": {
        "colab": {
          "base_uri": "https://localhost:8080/"
        },
        "id": "Om8D-SR0jJ5Z",
        "outputId": "dbff0af5-f9bd-47b1-a41b-6ebc74026e5e"
      },
      "execution_count": null,
      "outputs": [
        {
          "output_type": "stream",
          "name": "stdout",
          "text": [
            "Gabriel\n"
          ]
        }
      ]
    },
    {
      "cell_type": "code",
      "source": [
        "i = 5\n",
        "type(i)"
      ],
      "metadata": {
        "colab": {
          "base_uri": "https://localhost:8080/"
        },
        "id": "4GmLsUhFgVLI",
        "outputId": "5f32b948-6102-42f5-c86e-273cf5c77dcf"
      },
      "execution_count": null,
      "outputs": [
        {
          "output_type": "execute_result",
          "data": {
            "text/plain": [
              "int"
            ]
          },
          "metadata": {},
          "execution_count": 30
        }
      ]
    },
    {
      "cell_type": "code",
      "source": [
        "f = 9.8\n",
        "type(f)"
      ],
      "metadata": {
        "colab": {
          "base_uri": "https://localhost:8080/"
        },
        "id": "TzGn72FWmpjy",
        "outputId": "e86e92f4-0149-4d5d-eb0f-efab937b27a0"
      },
      "execution_count": null,
      "outputs": [
        {
          "output_type": "execute_result",
          "data": {
            "text/plain": [
              "float"
            ]
          },
          "metadata": {},
          "execution_count": 31
        }
      ]
    },
    {
      "cell_type": "code",
      "source": [
        "b = True\n",
        "type(b)"
      ],
      "metadata": {
        "colab": {
          "base_uri": "https://localhost:8080/"
        },
        "id": "xplZk9gomv2R",
        "outputId": "171678b5-36b9-490d-fab6-8c4e9ec44dc1"
      },
      "execution_count": null,
      "outputs": [
        {
          "output_type": "execute_result",
          "data": {
            "text/plain": [
              "bool"
            ]
          },
          "metadata": {},
          "execution_count": 33
        }
      ]
    },
    {
      "cell_type": "markdown",
      "source": [
        "Cinco pessoas trabalham como seguranças e recebem um salário de 3 mil reais. Dezesseis pessoas trabalham como docentes e recebem um salário de 6 mil reais. Por fim, temos uma pessoa que trabalha na diretoria e seu salário é de 12 mil e 500 reais.\n",
        "\n",
        "Precisamos trabalhar com esses dados fornecendo:\n",
        "\n",
        "* A quantidade total de empregados;\n",
        "* A diferença entre o salário mais baixo e mais alto;\n",
        "* A média ponderada da faixa salarial da escola."
      ],
      "metadata": {
        "id": "Lsvgsua8pAnC"
      }
    },
    {
      "cell_type": "code",
      "source": [
        "segurancaQuantidade = 22\n",
        "segurancaSalario = 3000\n",
        "docenteQuantidade = 1\n",
        "docenteSalario = 6.000\n",
        "diretoriaQuantidade = 1\n",
        "diretoriaSalario = 12000\n",
        "\n",
        "difMaxMin= (diretoriaSalario - segurancaSalario)\n",
        "#print(type(difMaxMin))\n",
        "print('Diferença de valor: ', difMaxMin)"
      ],
      "metadata": {
        "colab": {
          "base_uri": "https://localhost:8080/"
        },
        "id": "kwfFpXOFpT4U",
        "outputId": "867ec37d-4535-4886-f54a-89b72dfca8ba"
      },
      "execution_count": null,
      "outputs": [
        {
          "output_type": "stream",
          "name": "stdout",
          "text": [
            "Diferença de valor:  9000\n"
          ]
        }
      ]
    },
    {
      "cell_type": "markdown",
      "source": [
        "# Operadores\n",
        "\n"
      ],
      "metadata": {
        "id": "HWmJLwHYyIK7"
      }
    },
    {
      "cell_type": "code",
      "source": [
        "## Exponenciação\n",
        "print(2**3)\n",
        "# Módulo\n",
        "print(4%3)\n",
        "## Divisão\n",
        "print(10/2)"
      ],
      "metadata": {
        "colab": {
          "base_uri": "https://localhost:8080/"
        },
        "id": "TBopT2NlyUI9",
        "outputId": "e3f89455-595b-4ceb-da9a-37bc3b0b1741"
      },
      "execution_count": null,
      "outputs": [
        {
          "output_type": "stream",
          "name": "stdout",
          "text": [
            "8\n",
            "1\n",
            "5.0\n"
          ]
        }
      ]
    },
    {
      "cell_type": "markdown",
      "source": [
        "# String"
      ],
      "metadata": {
        "id": "AT64znYxzIhj"
      }
    },
    {
      "cell_type": "code",
      "source": [
        "nome = 'Priscila'\n",
        "sobrenome = 'Ribeiro'\n",
        "\n",
        "print(type(nome), type(sobrenome))\n"
      ],
      "metadata": {
        "colab": {
          "base_uri": "https://localhost:8080/"
        },
        "id": "H564-ia3zKsq",
        "outputId": "7d9a66b8-c278-4d06-b7ae-3e3df03c7800"
      },
      "execution_count": null,
      "outputs": [
        {
          "output_type": "stream",
          "name": "stdout",
          "text": [
            "<class 'str'> <class 'str'>\n"
          ]
        }
      ]
    },
    {
      "cell_type": "code",
      "source": [
        "# Métodos de String / Maiuscula\n",
        "nome.upper()\n",
        "\n",
        "print(nome.upper())"
      ],
      "metadata": {
        "colab": {
          "base_uri": "https://localhost:8080/"
        },
        "id": "36dXAO9k1FeM",
        "outputId": "1cf1f61d-2762-41a2-8a15-1379c2f4975f"
      },
      "execution_count": null,
      "outputs": [
        {
          "output_type": "stream",
          "name": "stdout",
          "text": [
            "PRISCILA\n"
          ]
        }
      ]
    },
    {
      "cell_type": "code",
      "source": [
        "# Métodos de String / Minúscula\n",
        "nome.lower()\n",
        "\n",
        "print(nome.lower())"
      ],
      "metadata": {
        "colab": {
          "base_uri": "https://localhost:8080/"
        },
        "id": "x0Tu2UNX1PY8",
        "outputId": "d7725287-51ad-4c17-94f9-602dba17d363"
      },
      "execution_count": null,
      "outputs": [
        {
          "output_type": "stream",
          "name": "stdout",
          "text": [
            "priscila\n"
          ]
        }
      ]
    },
    {
      "cell_type": "code",
      "source": [
        "# Métodos de String / Remover espaço em branco\n",
        "nome = ' Priscila Henriques '\n",
        "nome.strip()\n",
        "print(nome.strip())"
      ],
      "metadata": {
        "colab": {
          "base_uri": "https://localhost:8080/"
        },
        "id": "ExkfJu8w1kT7",
        "outputId": "1a3f029a-fe20-47cb-b93f-201fea2191e4"
      },
      "execution_count": null,
      "outputs": [
        {
          "output_type": "stream",
          "name": "stdout",
          "text": [
            "Priscila Henriques\n"
          ]
        }
      ]
    },
    {
      "cell_type": "code",
      "source": [
        "# Mètodos de String / Substituir uma letra por outra\n",
        "cargo = 'Analista'\n",
        "cargo.replace('A', 'B')"
      ],
      "metadata": {
        "colab": {
          "base_uri": "https://localhost:8080/",
          "height": 36
        },
        "id": "HZglPiCY2WLE",
        "outputId": "c0ea7c33-8635-4a51-8b77-a41fd9cf4bc3"
      },
      "execution_count": null,
      "outputs": [
        {
          "output_type": "execute_result",
          "data": {
            "text/plain": [
              "'Bnalista'"
            ],
            "application/vnd.google.colaboratory.intrinsic+json": {
              "type": "string"
            }
          },
          "metadata": {},
          "execution_count": 59
        }
      ]
    },
    {
      "cell_type": "code",
      "source": [
        "# Mètodos de String / Compara o texto com outro\n",
        "nomea = 'Priscila'\n",
        "nomeb = 'Patricia'\n",
        "\n",
        "nomeb = nomea.strip()\n",
        "\n",
        "print(nomeb == 'Priscila')\n",
        "print(nomeb)\n"
      ],
      "metadata": {
        "colab": {
          "base_uri": "https://localhost:8080/"
        },
        "id": "jngYPNB524jl",
        "outputId": "e8d9fc6a-67c9-41f4-d6fc-b37ef978e5ef"
      },
      "execution_count": null,
      "outputs": [
        {
          "output_type": "stream",
          "name": "stdout",
          "text": [
            "True\n",
            "Priscila\n"
          ]
        }
      ]
    },
    {
      "cell_type": "code",
      "source": [
        "# Mais de um método\n",
        "nomeb = nomea.strip().replace('P','t').upper()\n",
        "print(nomeb)"
      ],
      "metadata": {
        "colab": {
          "base_uri": "https://localhost:8080/"
        },
        "id": "A2BU1CRF3pAK",
        "outputId": "6ad69af9-8231-497b-8606-40119e423ed0"
      },
      "execution_count": null,
      "outputs": [
        {
          "output_type": "stream",
          "name": "stdout",
          "text": [
            "TRISCILA\n"
          ]
        }
      ]
    },
    {
      "cell_type": "markdown",
      "source": [
        "Python é uma linguagem de programação caracterizada por usar o padrão unicode de caracteres. Esse padrão permite que pessoas desenvolvedoras de todo o mundo consigam trabalhar com textos e caracteres em diferentes idiomas de forma muito fácil, sem precisar se preocupar com problemas de compatibilidade.\n"
      ],
      "metadata": {
        "id": "0qjBSS2B4RnS"
      }
    },
    {
      "cell_type": "code",
      "source": [
        "# Método que retorna o simbolo que representa o caractere\n",
        "chr(64)\n",
        "chr(79) + chr(108) + chr(225)"
      ],
      "metadata": {
        "colab": {
          "base_uri": "https://localhost:8080/",
          "height": 36
        },
        "id": "VSTJefB04XuT",
        "outputId": "1f68a3b8-a7f3-4e60-b760-5e2853bb2f4d"
      },
      "execution_count": null,
      "outputs": [
        {
          "output_type": "execute_result",
          "data": {
            "text/plain": [
              "'Olá'"
            ],
            "application/vnd.google.colaboratory.intrinsic+json": {
              "type": "string"
            }
          },
          "metadata": {},
          "execution_count": 69
        }
      ]
    },
    {
      "cell_type": "markdown",
      "source": [],
      "metadata": {
        "id": "h7cGXDk4z5OT"
      }
    },
    {
      "cell_type": "code",
      "source": [],
      "metadata": {
        "id": "Ma1ZXv_T4U0w"
      },
      "execution_count": null,
      "outputs": []
    }
  ]
}